{
 "cells": [
  {
   "cell_type": "code",
   "execution_count": 6,
   "id": "c2b1d900-a68d-4277-957c-a2b628e4464b",
   "metadata": {},
   "outputs": [
    {
     "name": "stdout",
     "output_type": "stream",
     "text": [
      "[('White shirt', 'Blue tie'), ('White shirt', 'Silver tie'), ('White shirt', 'Red tie'), ('Blue shirt', 'Blue tie'), ('Blue shirt', 'Silver tie'), ('Blue shirt', 'Red tie'), ('Black shirt', 'Blue tie'), ('Black shirt', 'Silver tie'), ('Black shirt', 'Red tie')]\n"
     ]
    }
   ],
   "source": [
    "from itertools import product\n",
    "\n",
    "shirts = [\"White shirt\", \"Blue shirt\", \"Black shirt\"]\n",
    "ties = [\"Blue tie\", \"Silver tie\", \"Red tie\"]\n",
    "\n",
    "pairs = list(product(shirts, ties))\n",
    "\n",
    "pairs"
   ]
  },
  {
   "cell_type": "code",
   "execution_count": 16,
   "id": "7f80120b-e04e-4f88-bbb1-862092ecf50e",
   "metadata": {},
   "outputs": [
    {
     "name": "stdout",
     "output_type": "stream",
     "text": [
      "[('Secretariat', 'Seabiscuit', 'Zenyatta'), ('Secretariat', 'Zenyatta', 'Seabiscuit'), ('Seabiscuit', 'Secretariat', 'Zenyatta'), ('Seabiscuit', 'Zenyatta', 'Secretariat'), ('Zenyatta', 'Secretariat', 'Seabiscuit'), ('Zenyatta', 'Seabiscuit', 'Secretariat')]\n"
     ]
    }
   ],
   "source": [
    "from itertools import permutations\n",
    "\n",
    "racers = [\"Secretariat\", \"Seabiscuit\", \"Zenyatta\"]\n",
    "\n",
    "orders = list(permutations(racers))\n",
    "\n",
    "orders"
   ]
  },
  {
   "cell_type": "code",
   "execution_count": 15,
   "id": "cad36c74-1323-428a-809e-df2b1803d0a7",
   "metadata": {},
   "outputs": [
    {
     "name": "stdout",
     "output_type": "stream",
     "text": [
      "['AB123', 'AB132', 'AB213', 'AB231', 'AB312', 'AB321', 'AC123', 'AC132', 'AC213', 'AC231', 'AC312', 'AC321', 'BA123', 'BA132', 'BA213', 'BA231', 'BA312', 'BA321', 'BC123', 'BC132', 'BC213', 'BC231', 'BC312', 'BC321', 'CA123', 'CA132', 'CA213', 'CA231', 'CA312', 'CA321', 'CB123', 'CB132', 'CB213', 'CB231', 'CB312', 'CB321']\n"
     ]
    }
   ],
   "source": [
    "from itertools import permutations\n",
    "\n",
    "letters = \"ABC\"\n",
    "digits = \"123\"\n",
    "\n",
    "letter_variations = list(permutations(letters, 2))\n",
    "digit_variations = list(permutations(digits, 3))\n",
    "\n",
    "license_plates = [\"\".join(l) + \"\".join(d) for l in letter_variations for d in digit_variations]\n",
    "\n",
    "license_plates\n"
   ]
  },
  {
   "cell_type": "code",
   "execution_count": 17,
   "id": "ed29a05d-4e63-444f-bb79-47d8c6de6e4f",
   "metadata": {},
   "outputs": [
    {
     "data": {
      "text/plain": [
       "[('Peter', 'Anna'),\n",
       " ('Peter', 'Anthony'),\n",
       " ('Peter', 'Kim'),\n",
       " ('Peter', 'Donald'),\n",
       " ('Anna', 'Anthony'),\n",
       " ('Anna', 'Kim'),\n",
       " ('Anna', 'Donald'),\n",
       " ('Anthony', 'Kim'),\n",
       " ('Anthony', 'Donald'),\n",
       " ('Kim', 'Donald')]"
      ]
     },
     "execution_count": 17,
     "metadata": {},
     "output_type": "execute_result"
    }
   ],
   "source": [
    "from itertools import combinations\n",
    "\n",
    "full_team = [\"Peter\", \"Anna\", \"Anthony\", \"Kim\", \"Donald\"]\n",
    "\n",
    "presenters_options = list(combinations(full_team, 2))\n",
    "\n",
    "presenters_options\n"
   ]
  },
  {
   "cell_type": "code",
   "execution_count": 19,
   "id": "cb6d4ca0-7a8b-4edc-a2b3-c5e2d73712d1",
   "metadata": {},
   "outputs": [
    {
     "data": {
      "text/plain": [
       "[('A', 'A', 'A'),\n",
       " ('A', 'A', 'B'),\n",
       " ('A', 'A', 'C'),\n",
       " ('A', 'A', 'D'),\n",
       " ('A', 'B', 'B'),\n",
       " ('A', 'B', 'C'),\n",
       " ('A', 'B', 'D'),\n",
       " ('A', 'C', 'C'),\n",
       " ('A', 'C', 'D'),\n",
       " ('A', 'D', 'D'),\n",
       " ('B', 'B', 'B'),\n",
       " ('B', 'B', 'C'),\n",
       " ('B', 'B', 'D'),\n",
       " ('B', 'C', 'C'),\n",
       " ('B', 'C', 'D'),\n",
       " ('B', 'D', 'D'),\n",
       " ('C', 'C', 'C'),\n",
       " ('C', 'C', 'D'),\n",
       " ('C', 'D', 'D'),\n",
       " ('D', 'D', 'D')]"
      ]
     },
     "execution_count": 19,
     "metadata": {},
     "output_type": "execute_result"
    }
   ],
   "source": [
    "from itertools import combinations_with_replacement\n",
    "\n",
    "letters = \"ABCD\"\n",
    "\n",
    "password_combinations = list(combinations_with_replacement(letters, 3))\n",
    "\n",
    "password_combinations"
   ]
  },
  {
   "cell_type": "code",
   "execution_count": null,
   "id": "fcc3d046-398a-48fb-89f1-f37519492dab",
   "metadata": {},
   "outputs": [],
   "source": []
  }
 ],
 "metadata": {
  "kernelspec": {
   "display_name": "Python 3 (ipykernel)",
   "language": "python",
   "name": "python3"
  },
  "language_info": {
   "codemirror_mode": {
    "name": "ipython",
    "version": 3
   },
   "file_extension": ".py",
   "mimetype": "text/x-python",
   "name": "python",
   "nbconvert_exporter": "python",
   "pygments_lexer": "ipython3",
   "version": "3.12.8"
  }
 },
 "nbformat": 4,
 "nbformat_minor": 5
}
